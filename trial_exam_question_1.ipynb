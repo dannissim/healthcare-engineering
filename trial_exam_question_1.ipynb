{
 "cells": [
  {
   "cell_type": "code",
   "execution_count": 35,
   "metadata": {
    "collapsed": true,
    "ExecuteTime": {
     "end_time": "2023-07-11T14:34:00.552009Z",
     "start_time": "2023-07-11T14:34:00.482104Z"
    }
   },
   "outputs": [
    {
     "data": {
      "text/plain": "     day  toddlers  teens  middle_age  old\n0      1       153      2           3   33\n1      2        38      0           2   27\n2      3         3      1           2   65\n3      4       188      2           0   33\n4      5       194      1           3   16\n..   ...       ...    ...         ...  ...\n725  726       162      0           1   50\n726  727        97      1           1   37\n727  728       123      1           2   71\n728  729       183      1           2    4\n729  730       101      0           2   15\n\n[730 rows x 5 columns]",
      "text/html": "<div>\n<style scoped>\n    .dataframe tbody tr th:only-of-type {\n        vertical-align: middle;\n    }\n\n    .dataframe tbody tr th {\n        vertical-align: top;\n    }\n\n    .dataframe thead th {\n        text-align: right;\n    }\n</style>\n<table border=\"1\" class=\"dataframe\">\n  <thead>\n    <tr style=\"text-align: right;\">\n      <th></th>\n      <th>day</th>\n      <th>toddlers</th>\n      <th>teens</th>\n      <th>middle_age</th>\n      <th>old</th>\n    </tr>\n  </thead>\n  <tbody>\n    <tr>\n      <th>0</th>\n      <td>1</td>\n      <td>153</td>\n      <td>2</td>\n      <td>3</td>\n      <td>33</td>\n    </tr>\n    <tr>\n      <th>1</th>\n      <td>2</td>\n      <td>38</td>\n      <td>0</td>\n      <td>2</td>\n      <td>27</td>\n    </tr>\n    <tr>\n      <th>2</th>\n      <td>3</td>\n      <td>3</td>\n      <td>1</td>\n      <td>2</td>\n      <td>65</td>\n    </tr>\n    <tr>\n      <th>3</th>\n      <td>4</td>\n      <td>188</td>\n      <td>2</td>\n      <td>0</td>\n      <td>33</td>\n    </tr>\n    <tr>\n      <th>4</th>\n      <td>5</td>\n      <td>194</td>\n      <td>1</td>\n      <td>3</td>\n      <td>16</td>\n    </tr>\n    <tr>\n      <th>...</th>\n      <td>...</td>\n      <td>...</td>\n      <td>...</td>\n      <td>...</td>\n      <td>...</td>\n    </tr>\n    <tr>\n      <th>725</th>\n      <td>726</td>\n      <td>162</td>\n      <td>0</td>\n      <td>1</td>\n      <td>50</td>\n    </tr>\n    <tr>\n      <th>726</th>\n      <td>727</td>\n      <td>97</td>\n      <td>1</td>\n      <td>1</td>\n      <td>37</td>\n    </tr>\n    <tr>\n      <th>727</th>\n      <td>728</td>\n      <td>123</td>\n      <td>1</td>\n      <td>2</td>\n      <td>71</td>\n    </tr>\n    <tr>\n      <th>728</th>\n      <td>729</td>\n      <td>183</td>\n      <td>1</td>\n      <td>2</td>\n      <td>4</td>\n    </tr>\n    <tr>\n      <th>729</th>\n      <td>730</td>\n      <td>101</td>\n      <td>0</td>\n      <td>2</td>\n      <td>15</td>\n    </tr>\n  </tbody>\n</table>\n<p>730 rows × 5 columns</p>\n</div>"
     },
     "execution_count": 35,
     "metadata": {},
     "output_type": "execute_result"
    }
   ],
   "source": [
    "import pandas as pd\n",
    "\n",
    "infections = pd.read_excel('./data2.xlsx', sheet_name='Question 1', usecols='A:E',\n",
    "                           keep_default_na=False, header=1)\n",
    "infections"
   ]
  },
  {
   "cell_type": "code",
   "execution_count": 55,
   "outputs": [
    {
     "data": {
      "text/plain": "            Population size ( assume unchanged in the 2 years considered)  \\\nAge groups                                                                  \ntoddlers                                               200000               \nteens                                                  200000               \nmiddle_age                                             500000               \nold                                                    100000               \n\n            Prob. PCP visit/ infection  Prob. Hospitalization / PCP visit  \\\nAge groups                                                                  \ntoddlers                           0.3                               0.10   \nteens                              0.1                               0.01   \nmiddle_age                         0.1                               0.01   \nold                                0.5                               0.30   \n\n            Prob. Of death/ hospitalization  \\\nAge groups                                    \ntoddlers                                0.2   \nteens                                   0.1   \nmiddle_age                              0.1   \nold                                     0.4   \n\n            Vaccination efficacy (prevents only hospitalizations)  \\\nAge groups                                                          \ntoddlers                                                  0.8       \nteens                                                     0.8       \nmiddle_age                                                0.8       \nold                                                       0.5       \n\n            Remainig life expecency   \nAge groups                            \ntoddlers                          70  \nteens                             70  \nmiddle_age                        40  \nold                               25  ",
      "text/html": "<div>\n<style scoped>\n    .dataframe tbody tr th:only-of-type {\n        vertical-align: middle;\n    }\n\n    .dataframe tbody tr th {\n        vertical-align: top;\n    }\n\n    .dataframe thead th {\n        text-align: right;\n    }\n</style>\n<table border=\"1\" class=\"dataframe\">\n  <thead>\n    <tr style=\"text-align: right;\">\n      <th></th>\n      <th>Population size ( assume unchanged in the 2 years considered)</th>\n      <th>Prob. PCP visit/ infection</th>\n      <th>Prob. Hospitalization / PCP visit</th>\n      <th>Prob. Of death/ hospitalization</th>\n      <th>Vaccination efficacy (prevents only hospitalizations)</th>\n      <th>Remainig life expecency</th>\n    </tr>\n    <tr>\n      <th>Age groups</th>\n      <th></th>\n      <th></th>\n      <th></th>\n      <th></th>\n      <th></th>\n      <th></th>\n    </tr>\n  </thead>\n  <tbody>\n    <tr>\n      <th>toddlers</th>\n      <td>200000</td>\n      <td>0.3</td>\n      <td>0.10</td>\n      <td>0.2</td>\n      <td>0.8</td>\n      <td>70</td>\n    </tr>\n    <tr>\n      <th>teens</th>\n      <td>200000</td>\n      <td>0.1</td>\n      <td>0.01</td>\n      <td>0.1</td>\n      <td>0.8</td>\n      <td>70</td>\n    </tr>\n    <tr>\n      <th>middle_age</th>\n      <td>500000</td>\n      <td>0.1</td>\n      <td>0.01</td>\n      <td>0.1</td>\n      <td>0.8</td>\n      <td>40</td>\n    </tr>\n    <tr>\n      <th>old</th>\n      <td>100000</td>\n      <td>0.5</td>\n      <td>0.30</td>\n      <td>0.4</td>\n      <td>0.5</td>\n      <td>25</td>\n    </tr>\n  </tbody>\n</table>\n</div>"
     },
     "execution_count": 55,
     "metadata": {},
     "output_type": "execute_result"
    }
   ],
   "source": [
    "characteristics = pd.read_excel('./data2.xlsx', sheet_name='Question 1', usecols='F:L',\n",
    "                                keep_default_na=False, header=2, nrows=4, index_col=0)\n",
    "# characteristics.loc['toddlers']['Population size ( assume unchanged in the 2 years considered)']\n",
    "characteristics"
   ],
   "metadata": {
    "collapsed": false,
    "ExecuteTime": {
     "end_time": "2023-07-11T14:41:40.803530Z",
     "start_time": "2023-07-11T14:41:40.764333Z"
    }
   }
  },
  {
   "cell_type": "code",
   "execution_count": 58,
   "outputs": [
    {
     "data": {
      "text/plain": "1075"
     },
     "execution_count": 58,
     "metadata": {},
     "output_type": "execute_result"
    }
   ],
   "source": [
    "# section a\n",
    "\n",
    "deaths = 0\n",
    "for age_group in characteristics.index:\n",
    "    age_group_characteristics = characteristics.loc[age_group]\n",
    "    deaths += infections[age_group].sum() * \\\n",
    "              age_group_characteristics['Prob. PCP visit/ infection'] * \\\n",
    "              age_group_characteristics['Prob. Hospitalization / PCP visit'] * \\\n",
    "              age_group_characteristics['Prob. Of death/ hospitalization']\n",
    "round(deaths)"
   ],
   "metadata": {
    "collapsed": false,
    "ExecuteTime": {
     "end_time": "2023-07-11T14:51:03.436904Z",
     "start_time": "2023-07-11T14:51:03.433521Z"
    }
   }
  },
  {
   "cell_type": "code",
   "execution_count": 65,
   "outputs": [
    {
     "data": {
      "text/plain": "1932"
     },
     "execution_count": 65,
     "metadata": {},
     "output_type": "execute_result"
    }
   ],
   "source": [
    "# section c\n",
    "\n",
    "# assume that the whole population was vaccinated.\n",
    "\n",
    "hospitalizations_without_vaccine = 0\n",
    "hospitalizations_with_vaccine = 0\n",
    "for age_group in characteristics.index:\n",
    "    age_group_characteristics = characteristics.loc[age_group]\n",
    "    potential_age_group_hospitalizations = \\\n",
    "              infections[age_group].sum() * \\\n",
    "              age_group_characteristics['Prob. PCP visit/ infection'] * \\\n",
    "              age_group_characteristics['Prob. Hospitalization / PCP visit']\n",
    "    hospitalizations_without_vaccine += potential_age_group_hospitalizations\n",
    "    hospitalizations_with_vaccine += \\\n",
    "        potential_age_group_hospitalizations * \\\n",
    "        (1 - age_group_characteristics['Vaccination efficacy (prevents only hospitalizations)'])\n",
    "\n",
    "round(hospitalizations_without_vaccine - hospitalizations_with_vaccine)"
   ],
   "metadata": {
    "collapsed": false,
    "ExecuteTime": {
     "end_time": "2023-07-11T14:59:03.653467Z",
     "start_time": "2023-07-11T14:59:03.650184Z"
    }
   }
  },
  {
   "cell_type": "code",
   "execution_count": 70,
   "outputs": [
    {
     "data": {
      "text/plain": "            Population size ( assume unchanged in the 2 years considered)  \\\nAge groups                                                                  \ntoddlers                                               200000               \nteens                                                  200000               \nmiddle_age                                             500000               \nold                                                    100000               \n\n            Prob. PCP visit/ infection  Prob. Hospitalization / PCP visit  \\\nAge groups                                                                  \ntoddlers                           0.3                               0.10   \nteens                              0.1                               0.01   \nmiddle_age                         0.1                               0.01   \nold                                0.5                               0.30   \n\n            Prob. Of death/ hospitalization  \\\nAge groups                                    \ntoddlers                                0.2   \nteens                                   0.1   \nmiddle_age                              0.1   \nold                                     0.4   \n\n            Vaccination efficacy (prevents only hospitalizations)  \\\nAge groups                                                          \ntoddlers                                                  0.8       \nteens                                                     0.8       \nmiddle_age                                                0.8       \nold                                                       0.5       \n\n            Remainig life expecency   observed_infected_proportion  \\\nAge groups                                                           \ntoddlers                          70                      0.178115   \nteens                             70                      0.001770   \nmiddle_age                        40                      0.000978   \nold                               25                      0.143520   \n\n            hospitalization_probability  \nAge groups                               \ntoddlers                   5.343450e-03  \nteens                      1.770000e-06  \nmiddle_age                 9.780000e-07  \nold                        2.152800e-02  ",
      "text/html": "<div>\n<style scoped>\n    .dataframe tbody tr th:only-of-type {\n        vertical-align: middle;\n    }\n\n    .dataframe tbody tr th {\n        vertical-align: top;\n    }\n\n    .dataframe thead th {\n        text-align: right;\n    }\n</style>\n<table border=\"1\" class=\"dataframe\">\n  <thead>\n    <tr style=\"text-align: right;\">\n      <th></th>\n      <th>Population size ( assume unchanged in the 2 years considered)</th>\n      <th>Prob. PCP visit/ infection</th>\n      <th>Prob. Hospitalization / PCP visit</th>\n      <th>Prob. Of death/ hospitalization</th>\n      <th>Vaccination efficacy (prevents only hospitalizations)</th>\n      <th>Remainig life expecency</th>\n      <th>observed_infected_proportion</th>\n      <th>hospitalization_probability</th>\n    </tr>\n    <tr>\n      <th>Age groups</th>\n      <th></th>\n      <th></th>\n      <th></th>\n      <th></th>\n      <th></th>\n      <th></th>\n      <th></th>\n      <th></th>\n    </tr>\n  </thead>\n  <tbody>\n    <tr>\n      <th>toddlers</th>\n      <td>200000</td>\n      <td>0.3</td>\n      <td>0.10</td>\n      <td>0.2</td>\n      <td>0.8</td>\n      <td>70</td>\n      <td>0.178115</td>\n      <td>5.343450e-03</td>\n    </tr>\n    <tr>\n      <th>teens</th>\n      <td>200000</td>\n      <td>0.1</td>\n      <td>0.01</td>\n      <td>0.1</td>\n      <td>0.8</td>\n      <td>70</td>\n      <td>0.001770</td>\n      <td>1.770000e-06</td>\n    </tr>\n    <tr>\n      <th>middle_age</th>\n      <td>500000</td>\n      <td>0.1</td>\n      <td>0.01</td>\n      <td>0.1</td>\n      <td>0.8</td>\n      <td>40</td>\n      <td>0.000978</td>\n      <td>9.780000e-07</td>\n    </tr>\n    <tr>\n      <th>old</th>\n      <td>100000</td>\n      <td>0.5</td>\n      <td>0.30</td>\n      <td>0.4</td>\n      <td>0.5</td>\n      <td>25</td>\n      <td>0.143520</td>\n      <td>2.152800e-02</td>\n    </tr>\n  </tbody>\n</table>\n</div>"
     },
     "execution_count": 70,
     "metadata": {},
     "output_type": "execute_result"
    }
   ],
   "source": [
    "characteristics['observed_infected_proportion'] = [\n",
    "    infections[age_group].sum() / characteristics['Population size ( assume unchanged in the 2 years considered)'][age_group]\n",
    "    for age_group in characteristics.index]\n",
    "\n",
    "characteristics['hospitalization_probability'] = \\\n",
    "    characteristics['observed_infected_proportion'] * \\\n",
    "    characteristics['Prob. PCP visit/ infection'] * \\\n",
    "    characteristics['Prob. Hospitalization / PCP visit']\n",
    "characteristics"
   ],
   "metadata": {
    "collapsed": false,
    "ExecuteTime": {
     "end_time": "2023-07-11T15:10:46.760798Z",
     "start_time": "2023-07-11T15:10:46.755770Z"
    }
   }
  },
  {
   "cell_type": "code",
   "execution_count": null,
   "outputs": [],
   "source": [],
   "metadata": {
    "collapsed": false
   }
  }
 ],
 "metadata": {
  "kernelspec": {
   "display_name": "Python 3",
   "language": "python",
   "name": "python3"
  },
  "language_info": {
   "codemirror_mode": {
    "name": "ipython",
    "version": 2
   },
   "file_extension": ".py",
   "mimetype": "text/x-python",
   "name": "python",
   "nbconvert_exporter": "python",
   "pygments_lexer": "ipython2",
   "version": "2.7.6"
  }
 },
 "nbformat": 4,
 "nbformat_minor": 0
}
